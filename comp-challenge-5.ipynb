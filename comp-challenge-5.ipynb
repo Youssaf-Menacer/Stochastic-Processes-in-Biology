{
 "cells": [
  {
   "cell_type": "markdown",
   "metadata": {},
   "source": [
    "## Computational Challenge 4\n",
    "\n",
    "Group \\#2\n",
    "\n",
    "Students: Thuyen Dang, Chunmei Sun, Jayson Cortez, and Alan Akil\n",
    "\n",
    "Course: Math 6397 - Stochastic Processes in Biology\n",
    "\n",
    "Professors: Dr. Josić & Dr. Stewart\n",
    "\n",
    "$\\textbf{Challenge:}$\n",
    "\n",
    "\n",
    "In this challenge two groups will report on the deterministic version of models of these circuits, while the other two will report on the stochastic versions. The last part of each question asks that you compare the results of the simulations. Therefore groups 1 and 2, and groups 3 and 4 will need to work together on each project.\n",
    "\n",
    "A feed-forward loop (FFL) is a 3-gene genetic circuit in which two “input” transcription factors (TFs), $X$ and $Y$, regulate a third “target” $Z$, with TF $X$ also regulating TF $Y$. Depending on the pattern of activation and repression among the three genes, an FFL can speed or slow the response time of $Z$ to a stimulus in the form of $X$ switching ON or OFF. Here we will explore the behavor of the so-called “incoherent” FFL.\n",
    "We will assume that X is either OFF or ON such that the concentration of the product of gene $X$ is $X_∗$ where $X_∗ =1$ when the geneis ON and $X∗ =0$when the gene is OFF. We will look at two specific cases of an incoherent FFL.\n",
    "\n",
    "\n",
    "\n",
    "\n",
    "\n",
    "Work with Group 3 to understand the behavior of the different circuits in response to changes in the input X.\n",
    "\n",
    "(a) Construct a Petri Net describing a stochastic version of the two FFLs. Assuming the ODEs describe concentrations, suggest reasonable values for reaction rates that will produce at most a few hundred molecules in the products of all three genes, while retaining the regulatory relationships of the deterministic system.\n",
    "\n",
    "(b) Implement a stochastic simulation corresponding to the two FFLs above using the Gillespie Algorithm.\n",
    "\n",
    "(c) Estimate the ON-to-OFF and OFF-to-ON response times with strong $Y−Z$ regulation for the two FFL cases.\n",
    "\n",
    "(d) Assuming X is ON, plot the stationary distribution for the expression of $Z$ with strong $Y-Z$ regulation for the two FFL cases."
   ]
  },
  {
   "cell_type": "code",
   "execution_count": 10,
   "metadata": {},
   "outputs": [],
   "source": [
    "# Import packages needed.\n",
    "import numpy as np\n",
    "import random\n",
    "from scipy.special import gamma, factorial\n",
    "import matplotlib.pyplot as plt\n",
    "import seaborn as sns\n",
    "import collections\n",
    "import tqdm\n",
    "from numba import jit\n",
    "import time\n",
    "from scipy.integrate import solve_ivp"
   ]
  },
  {
   "cell_type": "code",
   "execution_count": 16,
   "metadata": {},
   "outputs": [],
   "source": [
    "def ssa(x,By,beta_y,alpha_y,Bz,beta_z,alpha_z,k_xy,k_xz,k_yz,T,time_on_init,time_on_end):\n",
    "    # x=[Y,Z] is the molecule count of each species.\n",
    "    t_x=[0] # reaction time of fully-observed trajectory\n",
    "    i=0\n",
    "    # Reaction matrix.\n",
    "    v=np.array([[1,0],[-1,0],[0,1],[0,-1]])\n",
    "    while t_x[i]<T:\n",
    "        if time_on_init<t_x[i]<time_on_end:\n",
    "            X=1\n",
    "        else:\n",
    "            X=0\n",
    "        \n",
    "        # Propensity functions\n",
    "        a = np.array([By+beta_y * (((X/k_xy)**h)/(1+((X/k_xy)**h))), alpha_y * x[i,0],\n",
    "                     Bz+beta_z * (((X/k_xz)**h)/(1+((X/k_xz)**h)))*(1/(1+((x[i,0]/k_yz)**h)))\n",
    "                      ,alpha_z * x[i,1]])\n",
    "        sum_a=np.sum(a)\n",
    "        cumsum_a=np.cumsum(a,axis=0)\n",
    "        # Draw 2 random numbers from U(0,1)\n",
    "        epsilon=np.random.uniform(0,1,2)\n",
    "        # Find the reaction that will take place next.\n",
    "        j=np.min(np.where(epsilon[0]*sum_a<cumsum_a))\n",
    "        # Compute the time until reaction j happens.\n",
    "        tau=(np.log(1/epsilon[1]))/sum_a\n",
    "        # Update molecule counts due to reaction j happening.\n",
    "        x=np.append(x,[x[i,:]+v[j,:]],axis=0)\n",
    "        # Update time of simulation.\n",
    "        t_x=np.append(t_x,[t_x[i]+tau])\n",
    "        i+=1\n",
    "    return x,t_x"
   ]
  },
  {
   "cell_type": "code",
   "execution_count": 20,
   "metadata": {},
   "outputs": [],
   "source": [
    "By = 1; beta_y = 3; alpha_y = 0.01;\n",
    "Bz = 1; beta_z = 3; alpha_z = 0.01;\n",
    "k_xy = 1; k_xz = 1; k_yz = 0.01;\n",
    "h = 0.1\n",
    "y_0 = 10\n",
    "z_0 = 10\n",
    "x = np.array([y_0,z_0]).reshape(1,2)\n",
    "T = 10000\n",
    "time_on_init = T//3\n",
    "time_on_end = 2*T//3\n",
    "\n",
    "for i in range(1):\n",
    "    x,t_x = ssa(x,By,beta_y,alpha_y,Bz,beta_z,alpha_z,k_xy,k_xz,k_yz,T,time_on_init,time_on_end)\n",
    "#     plt.plot(x,v[:,[0]]);\n",
    "# plt.ylabel(\"Y\")\n",
    "# plt.xlabel(\"time\");"
   ]
  },
  {
   "cell_type": "code",
   "execution_count": 25,
   "metadata": {},
   "outputs": [
    {
     "data": {
      "image/png": "[encoded data removed]",
      "text/plain": [
       "<Figure size 432x288 with 1 Axes>"
      ]
     },
     "metadata": {
      "needs_background": "light"
     },
     "output_type": "display_data"
    }
   ],
   "source": [
    "plt.plot(t_x,x[:,0],label='Y')\n",
    "plt.plot(t_x,x[:,1],label='Z')\n",
    "\n",
    "plt.xlabel('Time')\n",
    "plt.ylabel('Concentration')\n",
    "\n",
    "plt.legend()\n",
    "plt.show()"
   ]
  },
  {
   "cell_type": "code",
   "execution_count": null,
   "metadata": {},
   "outputs": [],
   "source": []
  }
 ],
 "metadata": {
  "kernelspec": {
   "display_name": "Python 3",
   "language": "python",
   "name": "python3"
  },
  "language_info": {
   "codemirror_mode": {
    "name": "ipython",
    "version": 3
   },
   "file_extension": ".py",
   "mimetype": "text/x-python",
   "name": "python",
   "nbconvert_exporter": "python",
   "pygments_lexer": "ipython3",
   "version": "3.7.6"
  }
 },
 "nbformat": 4,
 "nbformat_minor": 4
}
