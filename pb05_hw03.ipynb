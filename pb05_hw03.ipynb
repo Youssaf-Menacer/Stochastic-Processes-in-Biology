{
 "cells": [
  {
   "cell_type": "code",
   "execution_count": 1,
   "metadata": {},
   "outputs": [],
   "source": [
    "import numpy as np\n",
    "from math import factorial \n",
    "import matplotlib.pyplot as plt\n",
    "import sympy"
   ]
  },
  {
   "cell_type": "code",
   "execution_count": 8,
   "metadata": {},
   "outputs": [],
   "source": [
    "def two_step_adaptation(num_1, num_2, num_3, mu_12, mu_23, max_population, max_time):\n",
    "    current_time = 0\n",
    "    V = 0\n",
    "    while current_time < max_time:\n",
    "        V += num_2\n",
    "        mutate_12 = mu_12*num_1\n",
    "        mutate_23 = mu_23*V\n",
    "        cum_sum_rates = np.cumsum([mutate_12,  mutate_23])\n",
    "        current_time += -np.log(np.random.rand()) / cum_sum_rates[-1]\n",
    "        rand_prob = np.random.rand() * cum_sum_rates[-1]\n",
    "        if rand_prob < cum_sum_rates[0]:\n",
    "            num_1 -= 1\n",
    "            num_2 += 1\n",
    "        else:\n",
    "            num_2 -= 1\n",
    "            num_3 += 1\n",
    "            return current_time"
   ]
  },
  {
   "cell_type": "code",
   "execution_count": 31,
   "metadata": {},
   "outputs": [
    {
     "name": "stdout",
     "output_type": "stream",
     "text": [
      "The expected time to produce an individual with genotype 03=  985.8678903643272\n"
     ]
    }
   ],
   "source": [
    "#1 mu_12=m_23=0.1/N\n",
    "max_population=1000\n",
    "mu_12=0.1/max_population\n",
    "mu_23=mu_12\n",
    "num_1=10\n",
    "num_2=5\n",
    "num_3=8\n",
    "max_time=10000\n",
    "time_f=two_step_adaptation(num_1, num_2, num_3, mu_12, mu_23, max_population, max_time)\n",
    "print(\"The expected time to produce an individual with genotype 03= \", time_f)"
   ]
  },
  {
   "cell_type": "code",
   "execution_count": 21,
   "metadata": {},
   "outputs": [
    {
     "name": "stdout",
     "output_type": "stream",
     "text": [
      "The naive expcted time is  10000.0\n"
     ]
    }
   ],
   "source": [
    "print(\"The naive expcted time is \",1/mu_12)"
   ]
  },
  {
   "cell_type": "code",
   "execution_count": 32,
   "metadata": {},
   "outputs": [
    {
     "name": "stdout",
     "output_type": "stream",
     "text": [
      "The expected time to produce an individual with genotype 03=  219.7030671954929\n"
     ]
    }
   ],
   "source": [
    "#2 mu_12=m_23=1/N\n",
    "max_population=1000\n",
    "mu_12=1/max_population\n",
    "mu_23=mu_12\n",
    "num_1=10\n",
    "num_2=5\n",
    "num_3=8\n",
    "max_time=10000\n",
    "time_f=two_step_adaptation(num_1, num_2, num_3, mu_12, mu_23, max_population, max_time)\n",
    "print(\"The expected time to produce an individual with genotype 03= \", time_f)"
   ]
  },
  {
   "cell_type": "code",
   "execution_count": 15,
   "metadata": {},
   "outputs": [
    {
     "name": "stdout",
     "output_type": "stream",
     "text": [
      "The naive expcted time is  1000.0\n"
     ]
    }
   ],
   "source": [
    "print(\"The naive expcted time is \",1/mu_12)"
   ]
  },
  {
   "cell_type": "code",
   "execution_count": 33,
   "metadata": {},
   "outputs": [
    {
     "name": "stdout",
     "output_type": "stream",
     "text": [
      "The expected time to produce an individual with genotype 03=  1.072920635419475\n"
     ]
    }
   ],
   "source": [
    "#3 mu_12=m_23=10/N\n",
    "max_population=1000\n",
    "mu_12=10/max_population\n",
    "mu_23=mu_12\n",
    "num_1=10\n",
    "num_2=5\n",
    "num_3=8\n",
    "max_time=10000\n",
    "time_f=two_step_adaptation(num_1, num_2, num_3, mu_12, mu_23, max_population, max_time)\n",
    "print(\"The expected time to produce an individual with genotype 03= \", time_f)"
   ]
  },
  {
   "cell_type": "code",
   "execution_count": 17,
   "metadata": {},
   "outputs": [
    {
     "name": "stdout",
     "output_type": "stream",
     "text": [
      "The naive expcted time is  100.0\n"
     ]
    }
   ],
   "source": [
    "print(\"The naive expcted time is \",1/mu_12)"
   ]
  },
  {
   "cell_type": "code",
   "execution_count": 30,
   "metadata": {},
   "outputs": [],
   "source": [
    "# We conclude that the expected time for the population to produce an individual with genotype 03 is way smaller than \\n\n",
    "\n",
    "# \\n the naive expectation waiting time."
   ]
  },
  {
   "cell_type": "code",
   "execution_count": null,
   "metadata": {},
   "outputs": [],
   "source": []
  }
 ],
 "metadata": {
  "kernelspec": {
   "display_name": "Python 3",
   "language": "python",
   "name": "python3"
  },
  "language_info": {
   "codemirror_mode": {
    "name": "ipython",
    "version": 3
   },
   "file_extension": ".py",
   "mimetype": "text/x-python",
   "name": "python",
   "nbconvert_exporter": "python",
   "pygments_lexer": "ipython3",
   "version": "3.7.3"
  }
 },
 "nbformat": 4,
 "nbformat_minor": 2
}
